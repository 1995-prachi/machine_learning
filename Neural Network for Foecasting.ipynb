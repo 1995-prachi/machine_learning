{
 "cells": [
  {
   "cell_type": "code",
   "execution_count": 4,
   "metadata": {},
   "outputs": [
    {
     "ename": "ModuleNotFoundError",
     "evalue": "No module named 'tensorflow'",
     "output_type": "error",
     "traceback": [
      "\u001b[0;31m---------------------------------------------------------------------------\u001b[0m",
      "\u001b[0;31mModuleNotFoundError\u001b[0m                       Traceback (most recent call last)",
      "Cell \u001b[0;32mIn [4], line 5\u001b[0m\n\u001b[1;32m      3\u001b[0m \u001b[38;5;28;01mimport\u001b[39;00m \u001b[38;5;21;01mmatplotlib\u001b[39;00m\u001b[38;5;21;01m.\u001b[39;00m\u001b[38;5;21;01mpyplot\u001b[39;00m \u001b[38;5;28;01mas\u001b[39;00m \u001b[38;5;21;01mplt\u001b[39;00m\n\u001b[1;32m      4\u001b[0m \u001b[38;5;28;01mimport\u001b[39;00m \u001b[38;5;21;01mseaborn\u001b[39;00m \u001b[38;5;28;01mas\u001b[39;00m \u001b[38;5;21;01msns\u001b[39;00m\n\u001b[0;32m----> 5\u001b[0m \u001b[38;5;28;01mfrom\u001b[39;00m \u001b[38;5;21;01mtensorflow\u001b[39;00m\u001b[38;5;21;01m.\u001b[39;00m\u001b[38;5;21;01mkeras\u001b[39;00m\u001b[38;5;21;01m.\u001b[39;00m\u001b[38;5;21;01mlayers\u001b[39;00m \u001b[38;5;28;01mimport\u001b[39;00m Input, Lambda, Dense, Flatten\n\u001b[1;32m      6\u001b[0m \u001b[38;5;28;01mfrom\u001b[39;00m \u001b[38;5;21;01mtensorflow\u001b[39;00m\u001b[38;5;21;01m.\u001b[39;00m\u001b[38;5;21;01mkeras\u001b[39;00m\u001b[38;5;21;01m.\u001b[39;00m\u001b[38;5;21;01mmodels\u001b[39;00m \u001b[38;5;28;01mimport\u001b[39;00m Model\n\u001b[1;32m      7\u001b[0m \u001b[38;5;28;01mfrom\u001b[39;00m \u001b[38;5;21;01mtensorflow\u001b[39;00m\u001b[38;5;21;01m.\u001b[39;00m\u001b[38;5;21;01mkeras\u001b[39;00m\u001b[38;5;21;01m.\u001b[39;00m\u001b[38;5;21;01mapplications\u001b[39;00m\u001b[38;5;21;01m.\u001b[39;00m\u001b[38;5;21;01mresnet50\u001b[39;00m \u001b[38;5;28;01mimport\u001b[39;00m ResNet50\n",
      "\u001b[0;31mModuleNotFoundError\u001b[0m: No module named 'tensorflow'"
     ]
    }
   ],
   "source": [
    "import numpy as np\n",
    "import pandas as pd\n",
    "import matplotlib.pyplot as plt\n",
    "import seaborn as sns\n",
    "from tensorflow.keras.layers import Input, Lambda, Dense, Flatten\n",
    "from tensorflow.keras.models import Model\n",
    "from tensorflow.keras.applications.resnet50 import ResNet50\n",
    "from tensorflow.keras.applications.resnet50 import preprocess_input\n",
    "from tensorflow.keras.preprocessing import image\n",
    "from tensorflow.keras.preprocessing.image import ImageDataGenerator,load_img\n",
    "from tensorflow.keras.models import Sequential\n",
    "from glob import glob"
   ]
  },
  {
   "cell_type": "code",
   "execution_count": 1,
   "metadata": {},
   "outputs": [],
   "source": [
    "import numpy as np"
   ]
  },
  {
   "cell_type": "code",
   "execution_count": 2,
   "metadata": {},
   "outputs": [],
   "source": [
    "df = pd.read_csv(\"Crude_brent_eu.csv\")"
   ]
  },
  {
   "cell_type": "code",
   "execution_count": 3,
   "metadata": {},
   "outputs": [
    {
     "data": {
      "text/html": [
       "<div>\n",
       "<style scoped>\n",
       "    .dataframe tbody tr th:only-of-type {\n",
       "        vertical-align: middle;\n",
       "    }\n",
       "\n",
       "    .dataframe tbody tr th {\n",
       "        vertical-align: top;\n",
       "    }\n",
       "\n",
       "    .dataframe thead th {\n",
       "        text-align: right;\n",
       "    }\n",
       "</style>\n",
       "<table border=\"1\" class=\"dataframe\">\n",
       "  <thead>\n",
       "    <tr style=\"text-align: right;\">\n",
       "      <th></th>\n",
       "      <th>DATE</th>\n",
       "      <th>MCOILBRENTEU</th>\n",
       "    </tr>\n",
       "  </thead>\n",
       "  <tbody>\n",
       "    <tr>\n",
       "      <th>0</th>\n",
       "      <td>1987-05-01</td>\n",
       "      <td>18.58</td>\n",
       "    </tr>\n",
       "    <tr>\n",
       "      <th>1</th>\n",
       "      <td>1987-06-01</td>\n",
       "      <td>18.86</td>\n",
       "    </tr>\n",
       "    <tr>\n",
       "      <th>2</th>\n",
       "      <td>1987-07-01</td>\n",
       "      <td>19.86</td>\n",
       "    </tr>\n",
       "    <tr>\n",
       "      <th>3</th>\n",
       "      <td>1987-08-01</td>\n",
       "      <td>18.98</td>\n",
       "    </tr>\n",
       "    <tr>\n",
       "      <th>4</th>\n",
       "      <td>1987-09-01</td>\n",
       "      <td>18.31</td>\n",
       "    </tr>\n",
       "  </tbody>\n",
       "</table>\n",
       "</div>"
      ],
      "text/plain": [
       "         DATE  MCOILBRENTEU\n",
       "0  1987-05-01         18.58\n",
       "1  1987-06-01         18.86\n",
       "2  1987-07-01         19.86\n",
       "3  1987-08-01         18.98\n",
       "4  1987-09-01         18.31"
      ]
     },
     "execution_count": 3,
     "metadata": {},
     "output_type": "execute_result"
    }
   ],
   "source": [
    "df.head()"
   ]
  },
  {
   "cell_type": "code",
   "execution_count": 11,
   "metadata": {},
   "outputs": [
    {
     "data": {
      "text/plain": [
       "(423, 2)"
      ]
     },
     "execution_count": 11,
     "metadata": {},
     "output_type": "execute_result"
    }
   ],
   "source": [
    "df.shape"
   ]
  },
  {
   "cell_type": "code",
   "execution_count": 12,
   "metadata": {},
   "outputs": [],
   "source": [
    "n_samples = df.shape[0]"
   ]
  },
  {
   "cell_type": "code",
   "execution_count": 14,
   "metadata": {},
   "outputs": [
    {
     "name": "stdout",
     "output_type": "stream",
     "text": [
      "Num of total samples:423\n"
     ]
    }
   ],
   "source": [
    "print(f\"Num of total samples:{n_samples}\")"
   ]
  },
  {
   "cell_type": "code",
   "execution_count": null,
   "metadata": {},
   "outputs": [],
   "source": [
    "TRAIN_PERC, VAL_PERC, TEST_PERC = "
   ]
  },
  {
   "cell_type": "code",
   "execution_count": 4,
   "metadata": {},
   "outputs": [],
   "source": [
    "# data processing\n",
    "\n",
    "def convert2matrix(data_arr, look_back):\n",
    "    X, Y =[], []\n",
    "    for i in range(len(data_arr)-look_back):\n",
    "        d=i+look_back  \n",
    "        X.append(data_arr[i:d,0])\n",
    "        Y.append(data_arr[d,0])\n",
    "    return np.array(X), np.array(Y)"
   ]
  },
  {
   "cell_type": "code",
   "execution_count": 5,
   "metadata": {},
   "outputs": [],
   "source": [
    "#Split data set into testing dataset and train dataset\n",
    "train_size = 390\n",
    "train, test =df.values[0:train_size,:],df.values[train_size:len(df.values),:]\n",
    "# setup look_back window \n",
    "look_back = 30\n",
    "#convert dataset into right shape in order to input into the DNN\n",
    "trainX, trainY = convert2matrix(train, look_back)\n",
    "testX, testY = convert2matrix(test, look_back)"
   ]
  },
  {
   "cell_type": "code",
   "execution_count": 9,
   "metadata": {},
   "outputs": [
    {
     "data": {
      "text/plain": [
       "array(['1989-11-01', '1989-12-01', '1990-01-01', '1990-02-01',\n",
       "       '1990-03-01', '1990-04-01', '1990-05-01', '1990-06-01',\n",
       "       '1990-07-01', '1990-08-01', '1990-09-01', '1990-10-01',\n",
       "       '1990-11-01', '1990-12-01', '1991-01-01', '1991-02-01',\n",
       "       '1991-03-01', '1991-04-01', '1991-05-01', '1991-06-01',\n",
       "       '1991-07-01', '1991-08-01', '1991-09-01', '1991-10-01',\n",
       "       '1991-11-01', '1991-12-01', '1992-01-01', '1992-02-01',\n",
       "       '1992-03-01', '1992-04-01', '1992-05-01', '1992-06-01',\n",
       "       '1992-07-01', '1992-08-01', '1992-09-01', '1992-10-01',\n",
       "       '1992-11-01', '1992-12-01', '1993-01-01', '1993-02-01',\n",
       "       '1993-03-01', '1993-04-01', '1993-05-01', '1993-06-01',\n",
       "       '1993-07-01', '1993-08-01', '1993-09-01', '1993-10-01',\n",
       "       '1993-11-01', '1993-12-01', '1994-01-01', '1994-02-01',\n",
       "       '1994-03-01', '1994-04-01', '1994-05-01', '1994-06-01',\n",
       "       '1994-07-01', '1994-08-01', '1994-09-01', '1994-10-01',\n",
       "       '1994-11-01', '1994-12-01', '1995-01-01', '1995-02-01',\n",
       "       '1995-03-01', '1995-04-01', '1995-05-01', '1995-06-01',\n",
       "       '1995-07-01', '1995-08-01', '1995-09-01', '1995-10-01',\n",
       "       '1995-11-01', '1995-12-01', '1996-01-01', '1996-02-01',\n",
       "       '1996-03-01', '1996-04-01', '1996-05-01', '1996-06-01',\n",
       "       '1996-07-01', '1996-08-01', '1996-09-01', '1996-10-01',\n",
       "       '1996-11-01', '1996-12-01', '1997-01-01', '1997-02-01',\n",
       "       '1997-03-01', '1997-04-01', '1997-05-01', '1997-06-01',\n",
       "       '1997-07-01', '1997-08-01', '1997-09-01', '1997-10-01',\n",
       "       '1997-11-01', '1997-12-01', '1998-01-01', '1998-02-01',\n",
       "       '1998-03-01', '1998-04-01', '1998-05-01', '1998-06-01',\n",
       "       '1998-07-01', '1998-08-01', '1998-09-01', '1998-10-01',\n",
       "       '1998-11-01', '1998-12-01', '1999-01-01', '1999-02-01',\n",
       "       '1999-03-01', '1999-04-01', '1999-05-01', '1999-06-01',\n",
       "       '1999-07-01', '1999-08-01', '1999-09-01', '1999-10-01',\n",
       "       '1999-11-01', '1999-12-01', '2000-01-01', '2000-02-01',\n",
       "       '2000-03-01', '2000-04-01', '2000-05-01', '2000-06-01',\n",
       "       '2000-07-01', '2000-08-01', '2000-09-01', '2000-10-01',\n",
       "       '2000-11-01', '2000-12-01', '2001-01-01', '2001-02-01',\n",
       "       '2001-03-01', '2001-04-01', '2001-05-01', '2001-06-01',\n",
       "       '2001-07-01', '2001-08-01', '2001-09-01', '2001-10-01',\n",
       "       '2001-11-01', '2001-12-01', '2002-01-01', '2002-02-01',\n",
       "       '2002-03-01', '2002-04-01', '2002-05-01', '2002-06-01',\n",
       "       '2002-07-01', '2002-08-01', '2002-09-01', '2002-10-01',\n",
       "       '2002-11-01', '2002-12-01', '2003-01-01', '2003-02-01',\n",
       "       '2003-03-01', '2003-04-01', '2003-05-01', '2003-06-01',\n",
       "       '2003-07-01', '2003-08-01', '2003-09-01', '2003-10-01',\n",
       "       '2003-11-01', '2003-12-01', '2004-01-01', '2004-02-01',\n",
       "       '2004-03-01', '2004-04-01', '2004-05-01', '2004-06-01',\n",
       "       '2004-07-01', '2004-08-01', '2004-09-01', '2004-10-01',\n",
       "       '2004-11-01', '2004-12-01', '2005-01-01', '2005-02-01',\n",
       "       '2005-03-01', '2005-04-01', '2005-05-01', '2005-06-01',\n",
       "       '2005-07-01', '2005-08-01', '2005-09-01', '2005-10-01',\n",
       "       '2005-11-01', '2005-12-01', '2006-01-01', '2006-02-01',\n",
       "       '2006-03-01', '2006-04-01', '2006-05-01', '2006-06-01',\n",
       "       '2006-07-01', '2006-08-01', '2006-09-01', '2006-10-01',\n",
       "       '2006-11-01', '2006-12-01', '2007-01-01', '2007-02-01',\n",
       "       '2007-03-01', '2007-04-01', '2007-05-01', '2007-06-01',\n",
       "       '2007-07-01', '2007-08-01', '2007-09-01', '2007-10-01',\n",
       "       '2007-11-01', '2007-12-01', '2008-01-01', '2008-02-01',\n",
       "       '2008-03-01', '2008-04-01', '2008-05-01', '2008-06-01',\n",
       "       '2008-07-01', '2008-08-01', '2008-09-01', '2008-10-01',\n",
       "       '2008-11-01', '2008-12-01', '2009-01-01', '2009-02-01',\n",
       "       '2009-03-01', '2009-04-01', '2009-05-01', '2009-06-01',\n",
       "       '2009-07-01', '2009-08-01', '2009-09-01', '2009-10-01',\n",
       "       '2009-11-01', '2009-12-01', '2010-01-01', '2010-02-01',\n",
       "       '2010-03-01', '2010-04-01', '2010-05-01', '2010-06-01',\n",
       "       '2010-07-01', '2010-08-01', '2010-09-01', '2010-10-01',\n",
       "       '2010-11-01', '2010-12-01', '2011-01-01', '2011-02-01',\n",
       "       '2011-03-01', '2011-04-01', '2011-05-01', '2011-06-01',\n",
       "       '2011-07-01', '2011-08-01', '2011-09-01', '2011-10-01',\n",
       "       '2011-11-01', '2011-12-01', '2012-01-01', '2012-02-01',\n",
       "       '2012-03-01', '2012-04-01', '2012-05-01', '2012-06-01',\n",
       "       '2012-07-01', '2012-08-01', '2012-09-01', '2012-10-01',\n",
       "       '2012-11-01', '2012-12-01', '2013-01-01', '2013-02-01',\n",
       "       '2013-03-01', '2013-04-01', '2013-05-01', '2013-06-01',\n",
       "       '2013-07-01', '2013-08-01', '2013-09-01', '2013-10-01',\n",
       "       '2013-11-01', '2013-12-01', '2014-01-01', '2014-02-01',\n",
       "       '2014-03-01', '2014-04-01', '2014-05-01', '2014-06-01',\n",
       "       '2014-07-01', '2014-08-01', '2014-09-01', '2014-10-01',\n",
       "       '2014-11-01', '2014-12-01', '2015-01-01', '2015-02-01',\n",
       "       '2015-03-01', '2015-04-01', '2015-05-01', '2015-06-01',\n",
       "       '2015-07-01', '2015-08-01', '2015-09-01', '2015-10-01',\n",
       "       '2015-11-01', '2015-12-01', '2016-01-01', '2016-02-01',\n",
       "       '2016-03-01', '2016-04-01', '2016-05-01', '2016-06-01',\n",
       "       '2016-07-01', '2016-08-01', '2016-09-01', '2016-10-01',\n",
       "       '2016-11-01', '2016-12-01', '2017-01-01', '2017-02-01',\n",
       "       '2017-03-01', '2017-04-01', '2017-05-01', '2017-06-01',\n",
       "       '2017-07-01', '2017-08-01', '2017-09-01', '2017-10-01',\n",
       "       '2017-11-01', '2017-12-01', '2018-01-01', '2018-02-01',\n",
       "       '2018-03-01', '2018-04-01', '2018-05-01', '2018-06-01',\n",
       "       '2018-07-01', '2018-08-01', '2018-09-01', '2018-10-01',\n",
       "       '2018-11-01', '2018-12-01', '2019-01-01', '2019-02-01',\n",
       "       '2019-03-01', '2019-04-01', '2019-05-01', '2019-06-01',\n",
       "       '2019-07-01', '2019-08-01', '2019-09-01', '2019-10-01'],\n",
       "      dtype='<U10')"
      ]
     },
     "execution_count": 9,
     "metadata": {},
     "output_type": "execute_result"
    }
   ],
   "source": [
    "trainY"
   ]
  },
  {
   "cell_type": "code",
   "execution_count": 8,
   "metadata": {},
   "outputs": [
    {
     "data": {
      "text/plain": [
       "array(['1987-05-01', '1987-06-01', '1987-07-01', '1987-08-01',\n",
       "       '1987-09-01', '1987-10-01', '1987-11-01', '1987-12-01',\n",
       "       '1988-01-01', '1988-02-01', '1988-03-01', '1988-04-01',\n",
       "       '1988-05-01', '1988-06-01', '1988-07-01', '1988-08-01',\n",
       "       '1988-09-01', '1988-10-01', '1988-11-01', '1988-12-01',\n",
       "       '1989-01-01', '1989-02-01', '1989-03-01', '1989-04-01',\n",
       "       '1989-05-01', '1989-06-01', '1989-07-01', '1989-08-01',\n",
       "       '1989-09-01', '1989-10-01'], dtype=object)"
      ]
     },
     "execution_count": 8,
     "metadata": {},
     "output_type": "execute_result"
    }
   ],
   "source": [
    "trainX[0,:]"
   ]
  },
  {
   "cell_type": "code",
   "execution_count": null,
   "metadata": {},
   "outputs": [],
   "source": [
    "from keras.models import Sequential\n",
    "from keras.layers import Dense\n",
    "from keras.callbacks import EarlyStopping\n",
    "def model_dnn(look_back):\n",
    "    model=Sequential()\n",
    "    model.add(Dense(units=32, input_dim=look_back, activation='relu'))\n",
    "    model.add(Dense(8, activation='relu'))\n",
    "    model.add(Dense(1))\n",
    "    model.compile(loss='mean_squared_error',  optimizer='adam',metrics = ['mse', 'mae'])\n",
    "    return model\n",
    "    "
   ]
  },
  {
   "cell_type": "code",
   "execution_count": null,
   "metadata": {},
   "outputs": [],
   "source": [
    "model=model_dnn(look_back)\n",
    "\n",
    "history=model.fit(trainX,trainY, epochs=100, batch_size=30, verbose=1, validation_data=(testX,testY),\n",
    "                  callbacks= [EarlyStopping(monitor = 'val_loss', patience =10)],\n",
    "                  shuffle=False)"
   ]
  },
  {
   "cell_type": "code",
   "execution_count": null,
   "metadata": {},
   "outputs": [],
   "source": [
    "def model_loss(history):\n",
    "    plt.figure(figsize=(8,4))\n",
    "    plt.plot(history.history['loss'], label='Train Loss')\n",
    "    plt.plot(history.history['val_loss'], label='Test Loss')\n",
    "    plt.title('model loss')\n",
    "    plt.ylabel('loss')\n",
    "    plt.xlabel('epochs')\n",
    "    plt.legend(loc='upper right')\n",
    "    plt.show();"
   ]
  },
  {
   "cell_type": "code",
   "execution_count": null,
   "metadata": {},
   "outputs": [],
   "source": [
    "train_score = model.evaluate(trainX, trainY, verbose=0)\n",
    "print('Train Root Mean Squared Error(RMSE): %.2f; Train Mean Absolute Error(MAE) : %.2f ' \n",
    "% (np.sqrt(train_score[1]), train_score[2]))\n",
    "test_score = model.evaluate(testX, testY, verbose=0)\n",
    "print('Test Root Mean Squared Error(RMSE): %.2f; Test Mean Absolute Error(MAE) : %.2f ' \n",
    "% (np.sqrt(test_score[1]), test_score[2]))\n",
    "model_loss(history)"
   ]
  },
  {
   "cell_type": "code",
   "execution_count": null,
   "metadata": {},
   "outputs": [],
   "source": [
    " def prediction_plot(testY, test_predict):\n",
    "      len_prediction=[x for x in range(len(testY))]\n",
    "      plt.figure(figsize=(8,4))\n",
    "      plt.plot(len_prediction, testY[:l], marker='.', label=\"actual\")\n",
    "      plt.plot(len_prediction, test_predict[:l], 'r', label=\"prediction\")\n",
    "      plt.tight_layout()\n",
    "      sns.despine(top=True)\n",
    "      plt.subplots_adjust(left=0.07)\n",
    "      plt.ylabel('Ads Daily Spend', size=15)\n",
    "      plt.xlabel('Time step', size=15)\n",
    "      plt.legend(fontsize=15)\n",
    "      plt.show();"
   ]
  }
 ],
 "metadata": {
  "kernelspec": {
   "display_name": "Python 3.10.6",
   "language": "python",
   "name": "python3"
  },
  "language_info": {
   "codemirror_mode": {
    "name": "ipython",
    "version": 3
   },
   "file_extension": ".py",
   "mimetype": "text/x-python",
   "name": "python",
   "nbconvert_exporter": "python",
   "pygments_lexer": "ipython3",
   "version": "3.10.6"
  },
  "vscode": {
   "interpreter": {
    "hash": "54e94bd1341b4209fd9c12c557c45d626c7e32e0d30f8542e1bd893e305a3da1"
   }
  }
 },
 "nbformat": 4,
 "nbformat_minor": 4
}
